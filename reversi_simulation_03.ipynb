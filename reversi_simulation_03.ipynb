{
  "nbformat": 4,
  "nbformat_minor": 0,
  "metadata": {
    "colab": {
      "name": " reversi simulation 03.ipynb",
      "provenance": [],
      "authorship_tag": "ABX9TyMXzukHmkeDDdqUGUgwcO0V",
      "include_colab_link": true
    },
    "kernelspec": {
      "display_name": "Python 3",
      "name": "python3"
    },
    "language_info": {
      "name": "python"
    }
  },
  "cells": [
    {
      "cell_type": "markdown",
      "metadata": {
        "id": "view-in-github",
        "colab_type": "text"
      },
      "source": [
        "<a href=\"https://colab.research.google.com/github/githubakira/reversi-simulation/blob/main/reversi_simulation_03.ipynb\" target=\"_parent\"><img src=\"https://colab.research.google.com/assets/colab-badge.svg\" alt=\"Open In Colab\"/></a>"
      ]
    },
    {
      "cell_type": "markdown",
      "metadata": {
        "id": "VeeLCUdN-ZAH"
      },
      "source": [
        "# Board"
      ]
    },
    {
      "cell_type": "code",
      "metadata": {
        "id": "evNfjW2s86Tt"
      },
      "source": [
        "import random\n",
        "import sys\n",
        "\n",
        "def newBoard():\n",
        "  board = []\n",
        "  for i in range(8):\n",
        "    board.append([' '] * 8)\n",
        "  return board\n",
        "\n",
        "def setBoard(board):\n",
        "\tfor x in range(8):\n",
        "\t\tfor y in range(8):\n",
        "\t\t\tboard[x][y] = ' '\n",
        "\n",
        "\tboard[3][3] = 'X'\n",
        "\tboard[3][4] = 'O'\n",
        "\tboard[4][3] = 'O'\n",
        "\tboard[4][4] = 'X'\n",
        "\treturn board\n",
        "\n",
        "def drawBoard(board):\n",
        "\th = '  +---+---+---+---+---+---+---+---+'\n",
        "\tv = '  |   |   |   |   |   |   |   |   |'\n",
        "\tprint('')\n",
        "\tprint('   1   2   3   4   5   6   7   8')\n",
        "\tprint(h)\n",
        "\tfor x in range(8):\n",
        "\t\tprint(v)\n",
        "\t\tprint(x+1, end=' ')\n",
        "\t\tfor y in range(8):\n",
        "\t\t\t# print('| %s' % (board[y][x]), end=' ')\n",
        "\t\t\tprint('| '+ board[y][x], end=' ')\n",
        "\t\tprint('|')\n",
        "\t\tprint(v)\n",
        "\t\tprint(h)\n",
        "\treturn board\n",
        "\n",
        "def boardCopy(board):\n",
        "  dupeBoard = board.copy()\n",
        "  return dupeBoard\n",
        "\n",
        "def onBoard(x, y):\n",
        "\treturn x >= 0 and x <= 7 and y >= 0 and y <=7\n",
        "\n",
        "def corner(x, y):\n",
        "\treturn (x == 0 and y == 0) or (x == 7 and y == 0) or (x == 0 and y == 7) or (x == 7 and y == 7)"
      ],
      "execution_count": 2,
      "outputs": []
    },
    {
      "cell_type": "code",
      "metadata": {
        "colab": {
          "base_uri": "https://localhost:8080/"
        },
        "id": "Tw3Zh3UGgUdw",
        "outputId": "35a6b1f9-4ee7-47d4-fa80-3dcd4ff9938c"
      },
      "source": [
        "Board = newBoard()\n",
        "setBoard(Board)"
      ],
      "execution_count": 3,
      "outputs": [
        {
          "output_type": "execute_result",
          "data": {
            "text/plain": [
              "[[' ', ' ', ' ', ' ', ' ', ' ', ' ', ' '],\n",
              " [' ', ' ', ' ', ' ', ' ', ' ', ' ', ' '],\n",
              " [' ', ' ', ' ', ' ', ' ', ' ', ' ', ' '],\n",
              " [' ', ' ', ' ', 'X', 'O', ' ', ' ', ' '],\n",
              " [' ', ' ', ' ', 'O', 'X', ' ', ' ', ' '],\n",
              " [' ', ' ', ' ', ' ', ' ', ' ', ' ', ' '],\n",
              " [' ', ' ', ' ', ' ', ' ', ' ', ' ', ' '],\n",
              " [' ', ' ', ' ', ' ', ' ', ' ', ' ', ' ']]"
            ]
          },
          "metadata": {
            "tags": []
          },
          "execution_count": 3
        }
      ]
    },
    {
      "cell_type": "code",
      "metadata": {
        "colab": {
          "base_uri": "https://localhost:8080/"
        },
        "id": "Te_93gk8BNFq",
        "outputId": "82be2319-1a1d-49ab-decf-c92acac3beb9"
      },
      "source": [
        "drawBoard(Board)"
      ],
      "execution_count": 4,
      "outputs": [
        {
          "output_type": "stream",
          "text": [
            "\n",
            "   1   2   3   4   5   6   7   8\n",
            "  +---+---+---+---+---+---+---+---+\n",
            "  |   |   |   |   |   |   |   |   |\n",
            "1 |   |   |   |   |   |   |   |   |\n",
            "  |   |   |   |   |   |   |   |   |\n",
            "  +---+---+---+---+---+---+---+---+\n",
            "  |   |   |   |   |   |   |   |   |\n",
            "2 |   |   |   |   |   |   |   |   |\n",
            "  |   |   |   |   |   |   |   |   |\n",
            "  +---+---+---+---+---+---+---+---+\n",
            "  |   |   |   |   |   |   |   |   |\n",
            "3 |   |   |   |   |   |   |   |   |\n",
            "  |   |   |   |   |   |   |   |   |\n",
            "  +---+---+---+---+---+---+---+---+\n",
            "  |   |   |   |   |   |   |   |   |\n",
            "4 |   |   |   | X | O |   |   |   |\n",
            "  |   |   |   |   |   |   |   |   |\n",
            "  +---+---+---+---+---+---+---+---+\n",
            "  |   |   |   |   |   |   |   |   |\n",
            "5 |   |   |   | O | X |   |   |   |\n",
            "  |   |   |   |   |   |   |   |   |\n",
            "  +---+---+---+---+---+---+---+---+\n",
            "  |   |   |   |   |   |   |   |   |\n",
            "6 |   |   |   |   |   |   |   |   |\n",
            "  |   |   |   |   |   |   |   |   |\n",
            "  +---+---+---+---+---+---+---+---+\n",
            "  |   |   |   |   |   |   |   |   |\n",
            "7 |   |   |   |   |   |   |   |   |\n",
            "  |   |   |   |   |   |   |   |   |\n",
            "  +---+---+---+---+---+---+---+---+\n",
            "  |   |   |   |   |   |   |   |   |\n",
            "8 |   |   |   |   |   |   |   |   |\n",
            "  |   |   |   |   |   |   |   |   |\n",
            "  +---+---+---+---+---+---+---+---+\n"
          ],
          "name": "stdout"
        },
        {
          "output_type": "execute_result",
          "data": {
            "text/plain": [
              "[[' ', ' ', ' ', ' ', ' ', ' ', ' ', ' '],\n",
              " [' ', ' ', ' ', ' ', ' ', ' ', ' ', ' '],\n",
              " [' ', ' ', ' ', ' ', ' ', ' ', ' ', ' '],\n",
              " [' ', ' ', ' ', 'X', 'O', ' ', ' ', ' '],\n",
              " [' ', ' ', ' ', 'O', 'X', ' ', ' ', ' '],\n",
              " [' ', ' ', ' ', ' ', ' ', ' ', ' ', ' '],\n",
              " [' ', ' ', ' ', ' ', ' ', ' ', ' ', ' '],\n",
              " [' ', ' ', ' ', ' ', ' ', ' ', ' ', ' ']]"
            ]
          },
          "metadata": {
            "tags": []
          },
          "execution_count": 4
        }
      ]
    },
    {
      "cell_type": "markdown",
      "metadata": {
        "id": "gpcRYr4m-jrH"
      },
      "source": [
        "# ValidMove"
      ]
    },
    {
      "cell_type": "code",
      "metadata": {
        "id": "pfWjnZtPoaE6"
      },
      "source": [
        "def validMove(board, tile, xstart, ystart):\n",
        "\tif board[xstart][ystart] != ' ' or not onBoard(xstart, ystart):\n",
        "\t\treturn False\n",
        "\n",
        "\tboard[xstart][ystart] = tile\n",
        "\n",
        "\tif tile == 'X':\n",
        "\t\totherTile = 'O'\n",
        "\telse:\n",
        "\t\totherTile = 'X'\n",
        "\n",
        "\ttilesToFlip = []\n",
        "\tfor xdirection, ydirection in [[0, 1], [1, 1], [1, 0], [1, -1], [0, -1], [-1, -1], [-1, 0], [-1, 1]]:\n",
        "\t\tx, y = xstart, ystart\n",
        "\t\tx += xdirection\n",
        "\t\ty += ydirection\n",
        "\t\tif isOnBoard(x, y) and board[x][y] == otherTile:\n",
        "\n",
        "\t\t\tx += xdirection\n",
        "\t\t\ty += ydirection\n",
        "\t\t\tif not isOnBoard(x, y):\n",
        "\t\t\t\tcontinue\n",
        "\t\t\twhile board[x][y] == otherTile:\n",
        "\t\t\t\tx += xdirection\n",
        "\t\t\t\ty += ydirection\n",
        "\t\t\t\tif not isOnBoard(x, y):\n",
        "\t\t\t\t\tbreak\n",
        "\t\t\tif not isOnBoard(x, y):\n",
        "\t\t\t\tcontinue\n",
        "\t\t\tif board[x][y] == tile:\n",
        "\t\t\t\twhile True:\n",
        "\t\t\t\t\tx -= xdirection\n",
        "\t\t\t\t\ty -= ydirection\n",
        "\t\t\t\t\tif x == xstart and y == ystart:\n",
        "\t\t\t\t\t\tbreak\n",
        "\t\t\t\t\ttilesToFlip.append([x, y])\n",
        "\n",
        "\tboard[xstart][ystart] = ' '\n",
        "\tif len(tilesToFlip) == 0:\n",
        "\t\treturn False\n",
        "\treturn tilesToFlip\n",
        "\n",
        "def getValidMoves(board, tile):\n",
        "\tvalidMoves = []\n",
        "\n",
        "\tfor x in range(8):\n",
        "\t\tfor y in range(8):\n",
        "\t\t\tif isValidMove(board, tile, x, y) != False:\n",
        "\t\t\t\tvalidMoves.append([x, y])\n",
        "\treturn validMoves\n",
        "def getBoardWithValidMoves(board, tile):\n",
        "\tdupeBoard = getBoardCopy(board)\n",
        "\n",
        "\tfor x, y in getValidMoves(dupeBoard, tile):\n",
        "\t\tdupeBoard[x][y] = '.'\n",
        "\treturn dupeBoard\n",
        "\n"
      ],
      "execution_count": 5,
      "outputs": []
    },
    {
      "cell_type": "markdown",
      "metadata": {
        "id": "7CgIJaC8DBQA"
      },
      "source": [
        "# '-1,-1' ' 0,-1' ' 1,-1'\n",
        "# '-1, 0' ' 0, 0' ' 1, 0'\n",
        "# '-1, 1' ' 0, 1' ' 1, 1'"
      ]
    },
    {
      "cell_type": "markdown",
      "metadata": {
        "id": "Cys1Ts3fFgza"
      },
      "source": [
        "# score"
      ]
    },
    {
      "cell_type": "code",
      "metadata": {
        "id": "YjotubCdFbLL"
      },
      "source": [
        "def getScoreOfBoard(board):\n",
        "\txscore = 0\n",
        "\toscore = 0\n",
        "\tfor x in range(8):\n",
        "\t\tfor y in range(8):\n",
        "\t\t\tif board[x][y] == 'X':\n",
        "\t\t\t\txscore += 1\n",
        "\t\t\tif board[x][y] == 'O':\n",
        "\t\t\t\toscore += 1\n",
        "\treturn {'X':xscore, 'O':oscore}\n",
        "\n",
        "def showPoints(playerTile, computerTile):\n",
        "\tscores = getScoreOfBoard(mainBoard)\n",
        "\tprint('You have %s points. The computer has %s points.' % (scores[playerTile], scores[computerTile]))"
      ],
      "execution_count": 6,
      "outputs": []
    },
    {
      "cell_type": "markdown",
      "metadata": {
        "id": "QrHdD-YNCunD"
      },
      "source": [
        "# move"
      ]
    },
    {
      "cell_type": "code",
      "metadata": {
        "id": "gPKzSu-mNHvg"
      },
      "source": [
        "\n",
        "def getPlayerMove(board, playerTile):\n",
        "\tDIGITS1TO8 = '1 2 3 4 5 6 7 8'.split()\n",
        "\twhile True:\n",
        "\t\tprint('Enter your move, or type quit to end the game.')\n",
        "\t\tmove = input().lower()\n",
        "\t\tif move == 'quit':\n",
        "\t\t\treturn 'quit'\n",
        "\t\tif len(move) == 2 and move[0] in DIGITS1TO8 and move[1] in DIGITS1TO8:\n",
        "\t\t\tx = int(move[0]) - 1\n",
        "\t\t\ty = int(move[1]) - 1\n",
        "\t\t\tif isValidMove(board, playerTile, x, y) == False:\n",
        "\t\t\t\tcontinue\n",
        "\t\t\telse:\n",
        "\t\t\t\tbreak\n",
        "\t\telse:\n",
        "\t\t\tprint('That is not a valid move. Type the x digit (1-8), then the y digit (1-8).')\n",
        "\t\t\tprint('For example, 81 will be the top-right corner.')\n",
        "\n",
        "\treturn [x, y]\n",
        "def makeMove(board, tile, xstart, ystart):\n",
        "\ttilesToFlip = isValidMove(board, tile, xstart, ystart)\n",
        "\n",
        "\tif tilesToFlip == False:\n",
        "\t\treturn False\n",
        "\n",
        "\tboard[xstart][ystart] = tile\n",
        "\tfor x, y in tilesToFlip:\n",
        "\t\tboard[x][y] = tile\n",
        "\treturn True\n",
        "\n",
        "def getComputerMove(board, computerTile):\n",
        "\tpossibleMoves = getValidMoves(board, computerTile)\n",
        " \n",
        "\tfor x, y in possibleMoves:\n",
        "\t\tif corner(x, y):\n",
        "\t\t\treturn [x, y]\n",
        "\n",
        "\tbestScore = -1\n",
        "\tfor x, y in possibleMoves:\n",
        "\t\tdupeBoard = getBoardCopy(board)\n",
        "\t\tmakeMove(dupeBoard, computerTile, x, y)\n",
        "\t\tscore = getScoreOfBoard(dupeBoard)[computerTile]\n",
        "\t\tif score > bestScore:\n",
        "\t\t\tbestMove = [x, y]\n",
        "\t\t\tbestScore = score\n",
        "\treturn bestMove"
      ],
      "execution_count": 7,
      "outputs": []
    },
    {
      "cell_type": "markdown",
      "metadata": {
        "id": "XTi0BCAvGpHd"
      },
      "source": [
        ""
      ]
    },
    {
      "cell_type": "code",
      "metadata": {
        "id": "KfXDkS1_Gq65"
      },
      "source": [
        "def enterPlayerTile():\n",
        "\ttile = ''\n",
        "\twhile not (tile == 'X' or tile == 'O'):\n",
        "\t\tprint('Do you want to be X or O?')\n",
        "\t\ttile = input().upper()\n",
        "\n",
        "\tif tile == 'X':\n",
        "\t\treturn ['X', 'O']\n",
        "\telse:\n",
        "\t\treturn ['O', 'X']\n",
        "\n",
        "\n",
        "def whoGoesFirst():\n",
        "\tif random.randint(0, 1) == 0:\n",
        "\t\treturn 'computer'\n",
        "\telse:\n",
        "\t\treturn 'player'\n",
        "\n",
        "\n",
        "def playAgain():\n",
        "\tprint('Do you want to play again? (yes or no)')\n",
        "\treturn input().lower().startswith('y')\n"
      ],
      "execution_count": 8,
      "outputs": []
    },
    {
      "cell_type": "markdown",
      "metadata": {
        "id": "eBQdDAIUICb_"
      },
      "source": [
        "# Game"
      ]
    },
    {
      "cell_type": "code",
      "metadata": {
        "colab": {
          "base_uri": "https://localhost:8080/"
        },
        "id": "zjfhLimlINo6",
        "outputId": "95940e0b-e23d-43d9-9b1b-3bf86995f4e0"
      },
      "source": [
        "print('Welcome to Reversi!')\n",
        "\n",
        "while True:\n",
        "\tmainBoard = newBoard()\n",
        "\tsetBoard(mainBoard)\n",
        "\tplayerTile, computerTile = enterPlayerTile()\n",
        "\tturn = whoGoesFirst()\n",
        "\tprint('The ' + turn + ' will go first.')\n",
        "\n",
        "\twhile True:\n",
        "\t\tif turn == 'player':\n",
        "\t\t\tdrawBoard(mainBoard)\n",
        "\t\t\tshowPoints(playerTile, computerTile)\n",
        "\t\t\tmove = getPlayerMove(mainBoard, playerTile)\n",
        "\t\t\tif move == 'quit':\n",
        "\t\t\t\tprint('Thanks for playing!')\n",
        "\t\t\t\tsys.exit()\n",
        "\t\t\telse:\n",
        "\t\t\t\tmakeMove(mainBoard, playerTile, move[0], move[1])\n",
        "\n",
        "\t\t\tif getValidMoves(mainBoard, computerTile) == []:\n",
        "\t\t\t\tbreak\n",
        "\t\t\telse:\n",
        "\t\t\t\tturn = 'computer'\n",
        "\n",
        "\t\telse:\n",
        "\t\t\tdrawBoard(mainBoard)\n",
        "\t\t\tshowPoints(playerTile, computerTile)\n",
        "\t\t\tx, y = getComputerMove(mainBoard, computerTile)\n",
        "\t\t\tmakeMove(mainBoard, computerTile, x, y)\n",
        "\n",
        "\t\t\tif getValidMoves(mainBoard, playerTile) == []:\n",
        "\t\t\t\tbreak\n",
        "\t\t\telse:\n",
        "\t\t\t\tturn = 'player'\n",
        "\n",
        "\tdrawBoard(mainBoard)\n",
        "\tscores = getScoreOfBoard(mainBoard)\n",
        "\tprint('X scored %s points. O scored %s points.' % (scores['X'], scores['O']))\n",
        "\tif scores[playerTile] > scores[computerTile]:\n",
        "\t\tprint('You beat the computer by %s points! Congratulations!' % (scores[playerTile] - scores[computerTile]))\n",
        "\telif scores[playerTile] < scores[computerTile]:\n",
        "\t\tprint('You lost. The computer beat you by %s points.' % (scores[computerTile] - scores[playerTile]))\n",
        "\telse:\n",
        "\t\tprint('The game was a tie!')\n",
        "\n",
        "\tif not playAgain():\n",
        "\t\tbreak"
      ],
      "execution_count": null,
      "outputs": [
        {
          "output_type": "stream",
          "text": [
            "Welcome to Reversi!\n",
            "Do you want to be X or O?\n",
            "x\n",
            "The player will go first.\n",
            "\n",
            "   1   2   3   4   5   6   7   8\n",
            "  +---+---+---+---+---+---+---+---+\n",
            "  |   |   |   |   |   |   |   |   |\n",
            "1 |   |   |   |   |   |   |   |   |\n",
            "  |   |   |   |   |   |   |   |   |\n",
            "  +---+---+---+---+---+---+---+---+\n",
            "  |   |   |   |   |   |   |   |   |\n",
            "2 |   |   |   |   |   |   |   |   |\n",
            "  |   |   |   |   |   |   |   |   |\n",
            "  +---+---+---+---+---+---+---+---+\n",
            "  |   |   |   |   |   |   |   |   |\n",
            "3 |   |   |   |   |   |   |   |   |\n",
            "  |   |   |   |   |   |   |   |   |\n",
            "  +---+---+---+---+---+---+---+---+\n",
            "  |   |   |   |   |   |   |   |   |\n",
            "4 |   |   |   | X | O |   |   |   |\n",
            "  |   |   |   |   |   |   |   |   |\n",
            "  +---+---+---+---+---+---+---+---+\n",
            "  |   |   |   |   |   |   |   |   |\n",
            "5 |   |   |   | O | X |   |   |   |\n",
            "  |   |   |   |   |   |   |   |   |\n",
            "  +---+---+---+---+---+---+---+---+\n",
            "  |   |   |   |   |   |   |   |   |\n",
            "6 |   |   |   |   |   |   |   |   |\n",
            "  |   |   |   |   |   |   |   |   |\n",
            "  +---+---+---+---+---+---+---+---+\n",
            "  |   |   |   |   |   |   |   |   |\n",
            "7 |   |   |   |   |   |   |   |   |\n",
            "  |   |   |   |   |   |   |   |   |\n",
            "  +---+---+---+---+---+---+---+---+\n",
            "  |   |   |   |   |   |   |   |   |\n",
            "8 |   |   |   |   |   |   |   |   |\n",
            "  |   |   |   |   |   |   |   |   |\n",
            "  +---+---+---+---+---+---+---+---+\n",
            "You have 2 points. The computer has 2 points.\n",
            "Enter your move, or type quit to end the game.\n"
          ],
          "name": "stdout"
        }
      ]
    }
  ]
}